{
 "cells": [
  {
   "cell_type": "markdown",
   "source": [
    "## Imports"
   ],
   "metadata": {}
  },
  {
   "cell_type": "code",
   "execution_count": 68,
   "source": [
    "from keras.models import Sequential\n",
    "from keras.layers import Dense, Conv2D, Flatten,MaxPool2D,Dropout\n",
    "import cv2"
   ],
   "outputs": [],
   "metadata": {}
  },
  {
   "cell_type": "markdown",
   "source": [
    "## Create model"
   ],
   "metadata": {}
  },
  {
   "cell_type": "code",
   "execution_count": 83,
   "source": [
    "#create model\n",
    "model = Sequential()\n",
    "\n",
    "#add model layers\n",
    "model.add(Conv2D(64, kernel_size=3, activation=\"relu\"))\n",
    "model.add(MaxPool2D(pool_size=3))\n",
    "model.add(Conv2D(32, kernel_size=3, activation=\"relu\"))\n",
    "model.add(Flatten())\n",
    "model.add(Dense(2, activation=\"softmax\"))\n"
   ],
   "outputs": [],
   "metadata": {}
  },
  {
   "cell_type": "markdown",
   "source": [
    "## Load data"
   ],
   "metadata": {}
  },
  {
   "cell_type": "code",
   "execution_count": 79,
   "source": [
    "import os\n",
    "import numpy as np\n",
    "\n",
    "\n",
    "train_images = []\n",
    "labels = []\n",
    "\n",
    "train_directory = \"hat/\"\n",
    "for filename in os.listdir(train_directory):\n",
    "    if filename.endswith(\".JPG\") or filename.endswith(\".jpg\"):\n",
    "        img = cv2.imread(train_directory+filename)\n",
    "        img = cv2.resize(img,(64,64))\n",
    "        img = cv2.cvtColor(img, cv2.COLOR_BGR2GRAY)\n",
    "        aug = cv2.flip(img,0)\n",
    "\n",
    "        train_images.append(img)\n",
    "        labels.append([0,1])\n",
    "\n",
    "        train_images.append(aug)\n",
    "        labels.append([0,1])\n",
    "\n",
    "train_directory = \"nohat/\"\n",
    "for filename in os.listdir(train_directory):\n",
    "    if filename.endswith(\".JPG\") or filename.endswith(\".jpg\"):\n",
    "        img = cv2.imread(train_directory+filename)\n",
    "        img = cv2.resize(img,(64,64))\n",
    "        img = cv2.cvtColor(img, cv2.COLOR_BGR2GRAY)\n",
    "        aug = cv2.flip(img,0)\n",
    "\n",
    "\n",
    "        train_images.append(img)\n",
    "        labels.append([1,0])\n",
    "\n",
    "        train_images.append(aug)\n",
    "        labels.append([1,0])\n",
    "\n",
    "\n",
    "# for filename in os.listdir(test_directory):\n",
    "#     if filename.endswith(\".jpg\"):\n",
    "#         img = cv2.imread(test_directory+filename)\n",
    "#         test_images.append(img)\n",
    "\n",
    "\n",
    "\n",
    "train_images = np.expand_dims(np.array(train_images,dtype=\"float64\"),3)/255\n",
    "labels = np.array(labels)\n",
    "\n",
    "\n"
   ],
   "outputs": [],
   "metadata": {}
  },
  {
   "cell_type": "code",
   "execution_count": 80,
   "source": [
    "print(len(train_images))\n",
    "print(len(labels))"
   ],
   "outputs": [
    {
     "output_type": "stream",
     "name": "stdout",
     "text": [
      "1948\n",
      "1948\n"
     ]
    }
   ],
   "metadata": {}
  },
  {
   "cell_type": "code",
   "execution_count": 29,
   "source": [
    "print(train_images.shape)\n",
    "print(labels[0])"
   ],
   "outputs": [
    {
     "output_type": "stream",
     "name": "stdout",
     "text": [
      "(24, 64, 64, 1)\n",
      "[0 1]\n"
     ]
    }
   ],
   "metadata": {}
  },
  {
   "cell_type": "code",
   "execution_count": 81,
   "source": [
    "from sklearn.utils import shuffle\n",
    "\n",
    "train_images,labels = shuffle(train_images,labels)"
   ],
   "outputs": [],
   "metadata": {}
  },
  {
   "cell_type": "code",
   "execution_count": 84,
   "source": [
    "model.compile(optimizer='adam', loss='categorical_crossentropy', metrics=['accuracy'])"
   ],
   "outputs": [],
   "metadata": {}
  },
  {
   "cell_type": "code",
   "execution_count": 85,
   "source": [
    "#train the model\n",
    "model.fit(train_images[:int(len(train_images)*0.9)], labels[:int(len(labels)*0.9)], validation_data=(train_images[int(len(train_images)*0.9):], labels[int(len(labels)*0.9):]), epochs=10,shuffle=True)"
   ],
   "outputs": [
    {
     "output_type": "stream",
     "name": "stdout",
     "text": [
      "Epoch 1/10\n",
      "55/55 [==============================] - 3s 48ms/step - loss: 0.5839 - accuracy: 0.6920 - val_loss: 0.5178 - val_accuracy: 0.6615\n",
      "Epoch 2/10\n",
      "55/55 [==============================] - 3s 46ms/step - loss: 0.4830 - accuracy: 0.7655 - val_loss: 0.5001 - val_accuracy: 0.7744\n",
      "Epoch 3/10\n",
      "55/55 [==============================] - 3s 47ms/step - loss: 0.4045 - accuracy: 0.8152 - val_loss: 0.4123 - val_accuracy: 0.8154\n",
      "Epoch 4/10\n",
      "55/55 [==============================] - 3s 47ms/step - loss: 0.3472 - accuracy: 0.8494 - val_loss: 0.4748 - val_accuracy: 0.8154\n",
      "Epoch 5/10\n",
      "55/55 [==============================] - 3s 46ms/step - loss: 0.3076 - accuracy: 0.8608 - val_loss: 0.4236 - val_accuracy: 0.8051\n",
      "Epoch 6/10\n",
      "55/55 [==============================] - 3s 47ms/step - loss: 0.2825 - accuracy: 0.8785 - val_loss: 0.3984 - val_accuracy: 0.8154\n",
      "Epoch 7/10\n",
      "55/55 [==============================] - 3s 47ms/step - loss: 0.2479 - accuracy: 0.8979 - val_loss: 0.3817 - val_accuracy: 0.8564\n",
      "Epoch 8/10\n",
      "55/55 [==============================] - 3s 47ms/step - loss: 0.2119 - accuracy: 0.9150 - val_loss: 0.4322 - val_accuracy: 0.8410\n",
      "Epoch 9/10\n",
      "55/55 [==============================] - 3s 47ms/step - loss: 0.1929 - accuracy: 0.9224 - val_loss: 0.3953 - val_accuracy: 0.8308\n",
      "Epoch 10/10\n",
      "55/55 [==============================] - 3s 50ms/step - loss: 0.1661 - accuracy: 0.9424 - val_loss: 0.4033 - val_accuracy: 0.8410\n"
     ]
    },
    {
     "output_type": "execute_result",
     "data": {
      "text/plain": [
       "<keras.callbacks.History at 0x7fe7430bc430>"
      ]
     },
     "metadata": {},
     "execution_count": 85
    }
   ],
   "metadata": {}
  },
  {
   "cell_type": "code",
   "execution_count": 86,
   "source": [
    "model.save(\"model.h5\")"
   ],
   "outputs": [],
   "metadata": {}
  }
 ],
 "metadata": {
  "orig_nbformat": 4,
  "language_info": {
   "name": "python",
   "version": "3.9.7",
   "mimetype": "text/x-python",
   "codemirror_mode": {
    "name": "ipython",
    "version": 3
   },
   "pygments_lexer": "ipython3",
   "nbconvert_exporter": "python",
   "file_extension": ".py"
  },
  "kernelspec": {
   "name": "python3",
   "display_name": "Python 3.9.7 64-bit"
  },
  "interpreter": {
   "hash": "aee8b7b246df8f9039afb4144a1f6fd8d2ca17a180786b69acc140d282b71a49"
  }
 },
 "nbformat": 4,
 "nbformat_minor": 2
}